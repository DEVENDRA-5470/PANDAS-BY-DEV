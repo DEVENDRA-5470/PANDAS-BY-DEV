{
 "cells": [
  {
   "cell_type": "code",
   "execution_count": 2,
   "id": "53ea84b0-e78e-43b4-94bc-1f5fd66900bb",
   "metadata": {},
   "outputs": [
    {
     "name": "stdout",
     "output_type": "stream",
     "text": [
      "✅ Data saved: 'male_data.csv' and 'female_data.csv'\n"
     ]
    }
   ],
   "source": [
    "import pandas as pd\n",
    "# Data Partitioning / Segmentation\n",
    "# ------------------------------\n",
    "# Step 1: Create sample dataframe\n",
    "# ------------------------------\n",
    "data = {\n",
    "    'Name': ['Vikrant', 'Anita', 'Rahul', 'Priya', 'Amit'],\n",
    "    'Gender': ['Male', 'Female', 'Male', 'Female', 'Male'],\n",
    "    'Age': [25, 23, 30, 28, 35]\n",
    "}\n",
    "\n",
    "df = pd.DataFrame(data)\n",
    "\n",
    "# ------------------------------\n",
    "# Step 2: Split dataframe by Gender\n",
    "# ------------------------------\n",
    "male_df = df[df['Gender'] == 'Male']\n",
    "female_df = df[df['Gender'] == 'Female']\n",
    "\n",
    "# ------------------------------\n",
    "# Step 3: Save as separate CSV files\n",
    "# ------------------------------\n",
    "male_df.to_csv(r\"C:\\Users\\dev\\OneDrive\\Documents\\male_data.csv\", index=False)\n",
    "female_df.to_csv(\"female_data.csv\", index=False)\n",
    "\n",
    "print(\"✅ Data saved: 'male_data.csv' and 'female_data.csv'\")\n"
   ]
  },
  {
   "cell_type": "code",
   "execution_count": 1,
   "id": "2e06a4d4-8788-4495-9ffb-04561a2564a3",
   "metadata": {},
   "outputs": [
    {
     "name": "stdout",
     "output_type": "stream",
     "text": [
      "   Price  Prev_Price  Change  Pct_Change\n",
      "0    100         NaN     NaN         NaN\n",
      "1    102       100.0     2.0    2.000000\n",
      "2    101       102.0    -1.0   -0.980392\n",
      "3    105       101.0     4.0    3.960396\n",
      "4    108       105.0     3.0    2.857143\n"
     ]
    }
   ],
   "source": [
    "# Time-Series Analysis\n",
    "import pandas as pd\n",
    "\n",
    "data = {'Price': [100, 102, 101, 105, 108]}\n",
    "df = pd.DataFrame(data)\n",
    "\n",
    "# Previous day's price\n",
    "df['Prev_Price'] = df['Price'].shift(1)\n",
    "\n",
    "# Daily return\n",
    "df['Change'] = df['Price'] - df['Prev_Price']\n",
    "df['Pct_Change'] = (df['Change'] / df['Prev_Price']) * 100\n",
    "\n",
    "print(df)\n"
   ]
  },
  {
   "cell_type": "code",
   "execution_count": 2,
   "id": "2204d7ac-4cd5-4109-ac44-001a49ca0a80",
   "metadata": {},
   "outputs": [
    {
     "name": "stdout",
     "output_type": "stream",
     "text": [
      "\n",
      "📌 Stock Market Example\n",
      "         Day  Price  Prev_Price  Daily_Return\n",
      "0 2025-01-01    100         NaN           NaN\n",
      "1 2025-01-02    102       100.0      2.000000\n",
      "2 2025-01-03    101       102.0     -0.980392\n",
      "3 2025-01-04    105       101.0      3.960396\n",
      "4 2025-01-05    108       105.0      2.857143\n"
     ]
    }
   ],
   "source": [
    "import pandas as pd\n",
    "import numpy as np\n",
    "\n",
    "# ------------------------------\n",
    "# 1. Stock Market Analysis (Daily Returns)\n",
    "# ------------------------------\n",
    "print(\"\\n📌 Stock Market Example\")\n",
    "stock_data = pd.DataFrame({\n",
    "    'Day': pd.date_range(start=\"2025-01-01\", periods=5, freq='D'),\n",
    "    'Price': [100, 102, 101, 105, 108]\n",
    "})\n",
    "\n",
    "# Previous day's price\n",
    "stock_data['Prev_Price'] = stock_data['Price'].shift(1)\n",
    "\n",
    "# Daily return (percentage)\n",
    "stock_data['Daily_Return'] = (stock_data['Price'] - stock_data['Prev_Price']) / stock_data['Prev_Price'] * 100\n",
    "\n",
    "print(stock_data)"
   ]
  }
 ],
 "metadata": {
  "kernelspec": {
   "display_name": "Python 3 (ipykernel)",
   "language": "python",
   "name": "python3"
  },
  "language_info": {
   "codemirror_mode": {
    "name": "ipython",
    "version": 3
   },
   "file_extension": ".py",
   "mimetype": "text/x-python",
   "name": "python",
   "nbconvert_exporter": "python",
   "pygments_lexer": "ipython3",
   "version": "3.13.5"
  }
 },
 "nbformat": 4,
 "nbformat_minor": 5
}
