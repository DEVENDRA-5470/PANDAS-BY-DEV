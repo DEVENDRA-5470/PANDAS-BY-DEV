{
 "cells": [
  {
   "cell_type": "code",
   "execution_count": 1,
   "id": "5ac42021-1888-4ea5-a179-bdc950ec35a1",
   "metadata": {},
   "outputs": [],
   "source": [
    "text = \"\"\"Lorem Ipsum is simply dummy text of the printing and typesetting industry. \n",
    "Lorem Ipsum has been the industry's standard dummy text ever since the 1500s, \n",
    "when an unknown printer took a galley of type and scrambled it to make a type specimen book. \n",
    "It has survived not only five centuries, but also the leap into electronic typesetting, \n",
    "remaining essentially unchanged. It was popularised in the 1960s with the release of Letraset sheets \n",
    "containing Lorem Ipsum passages, and more recently with desktop publishing software \n",
    "like Aldus PageMaker including versions of Lorem Ipsum.\"\"\"\n",
    "\n",
    "# split words and clean punctuation\n",
    "import re\n",
    "words = re.findall(r\"\\w+\", text)  # extract only words (ignores , . etc.)\n",
    "\n",
    "# sort by length\n",
    "sorted_words = sorted(words, key=len)\n",
    "\n",
    "# write into file\n",
    "with open(\"sorted_words.txt\", \"w\") as f:\n",
    "    for w in sorted_words:\n",
    "        f.write(w + \"\\n\")\n"
   ]
  }
 ],
 "metadata": {
  "kernelspec": {
   "display_name": "Python 3 (ipykernel)",
   "language": "python",
   "name": "python3"
  },
  "language_info": {
   "codemirror_mode": {
    "name": "ipython",
    "version": 3
   },
   "file_extension": ".py",
   "mimetype": "text/x-python",
   "name": "python",
   "nbconvert_exporter": "python",
   "pygments_lexer": "ipython3",
   "version": "3.13.5"
  }
 },
 "nbformat": 4,
 "nbformat_minor": 5
}
